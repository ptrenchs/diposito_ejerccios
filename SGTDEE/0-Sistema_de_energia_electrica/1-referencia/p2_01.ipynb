{
    "cells": [
        {
            "cell_type": "code",
            "execution_count": null,
            "id": "b08e622e-5726-4326-8ad4-1a16ca06a564",
            "metadata": {},
            "outputs": [],
            "source": [
                "import numpy as np"
            ]
        },
        {
            "cell_type": "markdown",
            "id": "b70b576d-729d-4c88-a13f-b5c5e9517ed8",
            "metadata": {},
            "source": [
                "# Problema 1\n",
                "Se dispone de la siguiente imagen:\n",
                "\n",
                "![IMAGE](https://raw.githubusercontent.com/ptrenchs/codi-docent-python/main/carpeta_probas/Electrica/1-Sistema_de_energia_electrica/img/p2.png)"
            ]
        },
        {
            "cell_type": "code",
            "execution_count": null,
            "id": "44f92000-8d83-4319-9a3e-743157493663",
            "metadata": {},
            "outputs": [],
            "source": [
                "# Datos\n",
                "V1 = 220\n",
                "",
                "# Tranformador 1\n",
                "Vh1 = 480\n",
                "Vl1 = 240\n",
                "S1 = 30\n",
                "e_cc1 = 0.1\n",
                "",
                "# Tranformador 2\n",
                "Vh2 = 460\n",
                "Vl2 = 115\n",
                "S2 = 20\n",
                "e_cc2 = 0.1\n",
                "",
                "# Linea 23\n",
                "Z_L = 2j\n",
                "",
                "# linea 4inf\n",
                "Zc = 0.9 + 0.2j"
            ]
        },
        {
            "cell_type": "markdown",
            "id": "6c47e7b3-f32d-4ce5-a185-50e37d52c31f",
            "metadata": {},
            "source": [
                "# Encuentra las bariables de base"
            ]
        },
        {
            "cell_type": "markdown",
            "id": "22e83887-d5d6-473e-9578-58c435a52b35",
            "metadata": {},
            "source": [
                "## Potencia de Base\n",
                "Para facilitar el calculo se puede usar una de las potencias proporcionadas en el enunciado\n",
                "$$S_B = S_1\\ \\ o\\ \\ S_B = S_2$$"
            ]
        },
        {
            "cell_type": "code",
            "execution_count": null,
            "id": "b8369ed8-539e-471d-a56c-73f2cd424b65",
            "metadata": {},
            "outputs": [],
            "source": [
                "# Encuentra variable que debe ser Sb\n",
                "Sb = S1 * 10 **3\n",
                "Sb"
            ]
        },
        {
            "cell_type": "markdown",
            "id": "783154e8-196a-4b5a-86ec-f818a919a57b",
            "metadata": {},
            "source": [
                "## Tensiones\n",
                "Como en este ejerccio existen tres zona distintas delimitadas por los transformadores, las tensiones de base no son independientes, es decir, se seguira la siguiente condicion:\n",
                "$$V_{B_1} = V_{elejida}$$\n",
                "$$V_{B_2} = V_{B_1} \\cdot \\frac{V_{Otro\\ lado\\ Transformador\\ 1}}{V_{Mismo\\ lado\\ del\\ Transformador\\ 1}}$$\n",
                "$$V_{B_3} = V_{B_2} \\cdot \\frac{V_{Otro\\ lado\\ Transformador\\ 2}}{V_{Mismo\\ lado\\ del\\ Transformador\\ 2}}$$\n",
                "\n",
                "La $ V_{elegida} $ puede tener el cualquier valor, pero para facilitar el calculo se realiza lo siguiente:\n",
                "\n",
                "$$V_{B_1} = V_{Mismo\\ lado\\ del\\ Transformador\\ 1}$$\n",
                "$$V_{B_2} = V_{B_1} \\cdot \\frac{V_{Otro\\ lado\\ Transformador\\ 1}}{V_{Mismo\\ lado\\ del\\ Transformador\\ 1}}$$\n",
                "$$V_{B_3} = V_{B_2} \\cdot \\frac{V_{Otro\\ lado\\ Transformador\\ 2}}{V_{Mismo\\ lado\\ del\\ Transformador\\ 2}}$$\n",
                "\n",
                "Nota: Se realizan los calculos con los modulos"
            ]
        },
        {
            "cell_type": "markdown",
            "id": "25667d62-c801-422e-9a3b-e41e86d70925",
            "metadata": {},
            "source": [
                "Tensiones 1"
            ]
        },
        {
            "cell_type": "code",
            "execution_count": null,
            "id": "09d6bb6a-b2fd-4195-922c-1d5bc62685e9",
            "metadata": {},
            "outputs": [],
            "source": [
                "# Encuentra variable que debe ser Vb1\n",
                "Vb1 = Vl1\n",
                "Vb1"
            ]
        },
        {
            "cell_type": "markdown",
            "id": "51abfbd3-fdde-40bd-a2cf-7bf603c51488",
            "metadata": {},
            "source": [
                "Tensiones 2"
            ]
        },
        {
            "cell_type": "code",
            "execution_count": null,
            "id": "e230497c-d198-4d79-858d-58824f25818f",
            "metadata": {},
            "outputs": [],
            "source": [
                "# Encuentra variable que debe ser Vb2\n",
                "Vb2 = Vb1 * Vh1 / Vl1\n",
                "Vb2"
            ]
        },
        {
            "cell_type": "markdown",
            "id": "348df6b2-7fc3-4791-a391-3044a7220f62",
            "metadata": {},
            "source": [
                "Tensiones 3"
            ]
        },
        {
            "cell_type": "code",
            "execution_count": null,
            "id": "90362658-e2d2-4bc8-bca5-9bb049369439",
            "metadata": {},
            "outputs": [],
            "source": [
                "# Encuentra variable que debe ser Vb3\n",
                "Vb3 = Vb2 * Vl2 / Vh2\n",
                "Vb3"
            ]
        },
        {
            "cell_type": "markdown",
            "id": "58ddf455-0413-4b43-9246-959c361a533e",
            "metadata": {},
            "source": [
                "## Impedancias\n",
                "\n",
                "La impedancia de base se puede obtener de distintas maneras:\n",
                "* Monofasico\n",
                "Primero tenemos tenemos esta expresion.\n",
                "$$ Z_{B_i} = \\frac{V_{B_i}}{I_{B_i}} $$\n",
                "Se realiza algunas substituciones.\n",
                "$$ Z_{B_i} = \\frac{V_{B_i}}{I_{B_i}} = \\frac{V_{B_i}}{\\frac{S_b}{V_{B_i}}} $$\n",
                "Se obtiene una segunda expresion.\n",
                "$$ Z_{B_i} = \\frac{V_{B_i}^2}{S_B} $$\n",
                "* Trifasico\n",
                "Primero tenemos tenemos esta expresion donde la tension es la de linea\n",
                "$$ Z_{B_i} = \\frac{\\frac{V_{B_i}}{\\sqrt{3}}}{I_{B_i}} = \\frac{V_{B_i}}{\\sqrt{3} \\cdot I_{B_i}} $$\n",
                "Se realiza algunas substituciones.\n",
                "$$ Z_{B_i} = \\frac{\\frac{V_{B_i}}{\\sqrt{3}}}{I_{B_i}} = \\frac{\\frac{V_{B_i}}{\\sqrt{3}}}{\\frac{S_b}{\\sqrt{3} \\cdot V_{B_i}}}$$\n",
                "Se llega a la misma ecuacion del apartado monofasico.\n",
                "$$ Z_{B_i} = \\frac{V_{B_i}^2}{S_B} $$\n",
                "\n",
                "En resumen, se recomienda usar la expresion $ Z_{B_i} = \\frac{V_{B_i}^2}{S_B} $ que es independiente de la tipologia del circuito."
            ]
        },
        {
            "cell_type": "markdown",
            "id": "64072109-5f86-4fb3-a622-a3f2c2eed830",
            "metadata": {},
            "source": [
                "Impedacina 1"
            ]
        },
        {
            "cell_type": "code",
            "execution_count": null,
            "id": "8cc11ffe-abd1-4ae1-b8ea-205ee2708f3e",
            "metadata": {},
            "outputs": [],
            "source": [
                "# Encuentra variable que debe ser Zb1\n",
                "Zb1 = Vb1 ** 2 / Sb\n",
                "Zb1"
            ]
        },
        {
            "cell_type": "markdown",
            "id": "715db6c9-0ec0-49ea-af65-33982c2f8c00",
            "metadata": {},
            "source": [
                "Impedacina 2"
            ]
        },
        {
            "cell_type": "code",
            "execution_count": null,
            "id": "5c22c7bc-3e02-4d7c-9b8c-8a55d77d0834",
            "metadata": {},
            "outputs": [],
            "source": [
                "# Encuentra variable que debe ser Zb2\n",
                "Zb2 = Vb2 ** 2 / Sb\n",
                "Zb2"
            ]
        },
        {
            "cell_type": "markdown",
            "id": "83606d29-8fb1-47f8-8f1e-460b9349f81c",
            "metadata": {},
            "source": [
                "Impedacina 3"
            ]
        },
        {
            "cell_type": "code",
            "execution_count": null,
            "id": "7ceedec3-3882-4469-b224-1efa96889d43",
            "metadata": {},
            "outputs": [],
            "source": [
                "# Encuentra variable que debe ser Zb3\n",
                "Zb3 = Vb3 ** 2 / Sb\n",
                "Zb3"
            ]
        },
        {
            "cell_type": "markdown",
            "id": "79d49727-c010-4695-84b7-a23461c82313",
            "metadata": {},
            "source": [
                "## Intensidades\n",
                "La impedancia de base se puede obtener de distintas maneras:\n",
                "* Monofasico\n",
                "Primero tenemos tenemos esta expresion.\n",
                "$$ I_{B_i} = \\frac{V_{B_i}}{Z_{B_i}} $$\n",
                "Segunda expresion.\n",
                "$$ I_{B_i} = \\frac{S_B}{V_{B_i}} $$\n",
                "* Trifasico\n",
                "Primero tenemos tenemos esta expresion.\n",
                "$$ I_{B_i} = \\frac{\\frac{V_{B_i}}{\\sqrt{3}}}{Z_{B_i}}  = \\frac{V_{B_i}}{\\sqrt{3} \\cdot Z_{B_i}}$$\n",
                "Segunda expresion.\n",
                "$$ I_{B_i} = \\frac{S_B}{\\sqrt{3} \\cdot V_{B_i}} $$"
            ]
        },
        {
            "cell_type": "markdown",
            "id": "89ed2766-8eda-41b8-a219-fd32e9969e75",
            "metadata": {},
            "source": [
                "Intensidad 1"
            ]
        },
        {
            "cell_type": "code",
            "execution_count": null,
            "id": "fe7f16ba-e00a-4a04-ba6c-1adf7d2b5a9c",
            "metadata": {},
            "outputs": [],
            "source": [
                "# Encuentra variable que debe ser Ib1\n",
                "Ib1 = Sb / Vb1\n",
                "Ib1"
            ]
        },
        {
            "cell_type": "markdown",
            "id": "92330836-895e-41de-8e91-6ec7e1307225",
            "metadata": {},
            "source": [
                "Intensidad  2"
            ]
        },
        {
            "cell_type": "code",
            "execution_count": null,
            "id": "c06ef67f-4ba7-42fd-85a8-1474cda34f7b",
            "metadata": {},
            "outputs": [],
            "source": [
                "# Encuentra variable que debe ser Ib2\n",
                "Ib2 = Sb / Vb2\n",
                "Ib2"
            ]
        },
        {
            "cell_type": "markdown",
            "id": "3af3256a-19e1-497b-8a7f-11e8cb2b3bc9",
            "metadata": {},
            "source": [
                "Intensidad 3"
            ]
        },
        {
            "cell_type": "code",
            "execution_count": null,
            "id": "bc308dd7-3d06-4124-a8fe-033386e6f6e3",
            "metadata": {},
            "outputs": [],
            "source": [
                "# Encuentra variable que debe ser Ib3\n",
                "Ib3 = Sb / Vb3\n",
                "Ib3"
            ]
        },
        {
            "cell_type": "markdown",
            "id": "edb21082-10bf-4e0b-97bd-c80e327c6ebf",
            "metadata": {},
            "source": [
                "# Encuentra las variables por unidad\n",
                "\n",
                "![IMAGE](https://raw.githubusercontent.com/ptrenchs/codi-docent-python/main/carpeta_probas/Electrica/1-Sistema_de_energia_electrica/img/p2.png)"
            ]
        },
        {
            "cell_type": "markdown",
            "id": "728680b9-c75d-4b5c-8baa-a818e54742ba",
            "metadata": {},
            "source": [
                "Tension 1"
            ]
        },
        {
            "cell_type": "code",
            "execution_count": null,
            "id": "713fec07-e9a1-4ce0-948b-424850370996",
            "metadata": {},
            "outputs": [],
            "source": [
                "# Encuentra variable que debe ser Vpu1\n",
                "Vpu1 = V1 / Vb1\n",
                "Vpu1"
            ]
        },
        {
            "cell_type": "markdown",
            "id": "5903f431-90cd-4a54-8d4d-405306234a14",
            "metadata": {},
            "source": [
                "## Impedancias"
            ]
        },
        {
            "cell_type": "markdown",
            "id": "286658a9-fc30-4629-9559-fa8d9e82d178",
            "metadata": {},
            "source": [
                "Impedancia 1"
            ]
        },
        {
            "cell_type": "code",
            "execution_count": null,
            "id": "ff24d825-24bc-4be5-bde7-9b9740835546",
            "metadata": {},
            "outputs": [],
            "source": [
                "Zpu1 = 0\n",
                "Zpu1"
            ]
        },
        {
            "cell_type": "markdown",
            "id": "96334621-6e9b-4286-bc49-5880790dab1c",
            "metadata": {},
            "source": [
                "Impedancia 2"
            ]
        },
        {
            "cell_type": "code",
            "execution_count": null,
            "id": "96281818-2561-488f-a5b4-7e20912d0f91",
            "metadata": {},
            "outputs": [],
            "source": [
                "# Encuentra variable que debe ser Zpu2\n",
                "Zpu2 = Z_L / Zb2\n",
                "Zpu2"
            ]
        },
        {
            "cell_type": "markdown",
            "id": "c0bcb5bb-a374-4034-844f-5fe18d8eecdb",
            "metadata": {},
            "source": [
                "Impedancia 3"
            ]
        },
        {
            "cell_type": "code",
            "execution_count": null,
            "id": "18b66ce5-11dd-47f5-8c8f-294bc5d0be3e",
            "metadata": {},
            "outputs": [],
            "source": [
                "# Encuentra variable que debe ser Zpu3\n",
                "Zpu3 = Zc / Zb3\n",
                "Zpu3"
            ]
        },
        {
            "cell_type": "markdown",
            "id": "9c1c86f2-2920-485b-887f-8232bfbcc9b1",
            "metadata": {},
            "source": [
                "## Impedancias de los transformadores\n",
                "$$ Z_{pu_{T_i}} = \\varepsilon_{cc_i} \\cdot \\frac{\\left(\\frac{V_{mismo\\ lado_{T_i}}^2}{S_{n_{T_i}}}\\right)}{Z_{mismo\\ lado_{B_i}}}$$"
            ]
        },
        {
            "cell_type": "markdown",
            "id": "7b828c5d-3070-4a8e-b42d-b708f3a8a084",
            "metadata": {},
            "source": [
                "Impedancia Transformador 1"
            ]
        },
        {
            "cell_type": "code",
            "execution_count": null,
            "id": "08e6f8ca-ab0e-4d16-a500-5b4a29805037",
            "metadata": {},
            "outputs": [],
            "source": [
                "# Encuentra variable que debe ser Zput1\n",
                "Zput1 = e_cc1 * (Vl1 ** 2 / (S1 * 10 **3)) / Zb1 * 1j\n",
                "Zput1"
            ]
        },
        {
            "cell_type": "markdown",
            "id": "70979fa6-0e82-426c-b322-db9eeb86ba29",
            "metadata": {},
            "source": [
                "Impedancia Transformador 2"
            ]
        },
        {
            "cell_type": "code",
            "execution_count": null,
            "id": "473a3b70-214a-41d9-be4a-d267481e05f0",
            "metadata": {},
            "outputs": [],
            "source": [
                "# Encuentra variable que debe ser Zput2\n",
                "Zput2 = e_cc2 * (Vl2 ** 2 / (S2 * 10 **3)) / Zb3 * 1j\n",
                "Zput2"
            ]
        },
        {
            "cell_type": "markdown",
            "id": "773c0a4d-a086-484f-810b-7c9f875b2ef3",
            "metadata": {},
            "source": [
                "## Intensidad Total"
            ]
        },
        {
            "cell_type": "code",
            "execution_count": null,
            "id": "d2e5cdda-eb7e-4093-839c-978af924c355",
            "metadata": {},
            "outputs": [],
            "source": [
                "# Encuentra variable que debe ser Iputot\n",
                "Iputot = Vpu1 / (Zpu1 + Zput1 + Zpu2 + Zput2 + Zpu3)\n",
                "Iputot"
            ]
        },
        {
            "cell_type": "markdown",
            "id": "fe61724f-6f6c-4312-8513-bc32c627d292",
            "metadata": {},
            "source": [
                "## Tensiones\n",
                "\n",
                "![IMAGE](https://raw.githubusercontent.com/ptrenchs/codi-docent-python/main/carpeta_probas/Electrica/1-Sistema_de_energia_electrica/img/p2.png)"
            ]
        },
        {
            "cell_type": "markdown",
            "id": "27c12656-c59c-44fe-8764-5c8cb57936f5",
            "metadata": {},
            "source": [
                "Tension 2"
            ]
        },
        {
            "cell_type": "code",
            "execution_count": null,
            "id": "f2be621b-ea5f-4685-b011-463c0650f69f",
            "metadata": {},
            "outputs": [],
            "source": [
                "# Encuentra variable que debe ser Vpu2\n",
                "Vpu2 = Vpu1 - Iputot * Zput1\n",
                "Vpu2"
            ]
        },
        {
            "cell_type": "markdown",
            "id": "8d5a2544-e781-43c1-8cff-963e2298f0ce",
            "metadata": {},
            "source": [
                "Tension 3"
            ]
        },
        {
            "cell_type": "code",
            "execution_count": null,
            "id": "162daaf4-3ee6-49a5-a38a-a946a604be54",
            "metadata": {},
            "outputs": [],
            "source": [
                "# Encuentra variable que debe ser Vpu3\n",
                "Vpu3 = Vpu2 - Iputot * Zpu2\n",
                "Vpu3"
            ]
        },
        {
            "cell_type": "markdown",
            "id": "90575ea9-8261-4e31-9d20-a3e522ee94a3",
            "metadata": {},
            "source": [
                "Tension 4"
            ]
        },
        {
            "cell_type": "code",
            "execution_count": null,
            "id": "c87d0566-9397-414e-b2eb-d94b5c027087",
            "metadata": {},
            "outputs": [],
            "source": [
                "# Encuentra variable que debe ser Vpu4\n",
                "Vpu4 = Vpu3 - Iputot * Zput2\n",
                "Vpu4"
            ]
        },
        {
            "cell_type": "markdown",
            "id": "f9d7a62b-1c81-4446-af00-f5cdd7cd56df",
            "metadata": {},
            "source": [
                "## Variables reales\n",
                "\n",
                "![IMAGE](https://raw.githubusercontent.com/ptrenchs/codi-docent-python/main/carpeta_probas/Electrica/1-Sistema_de_energia_electrica/img/p2.png)"
            ]
        },
        {
            "cell_type": "markdown",
            "id": "27e50927-1cda-4a2a-8f74-e9964399ee47",
            "metadata": {},
            "source": [
                "## Tensiones"
            ]
        },
        {
            "cell_type": "markdown",
            "id": "80079446-85e0-426b-a41d-4e61a8a40568",
            "metadata": {},
            "source": [
                "Tension 2"
            ]
        },
        {
            "cell_type": "code",
            "execution_count": null,
            "id": "70730fef-ea87-4476-8a15-f0914ed112d0",
            "metadata": {},
            "outputs": [],
            "source": [
                "# Encuentra variable que debe ser V2\n",
                "V2 = Vpu2 * Vb2\n",
                "V2"
            ]
        },
        {
            "cell_type": "markdown",
            "id": "6f21b951-24cb-48ec-8fd2-62d4e81a917a",
            "metadata": {},
            "source": [
                "Tension 3"
            ]
        },
        {
            "cell_type": "code",
            "execution_count": null,
            "id": "2749ffef-63d8-4451-89ca-34f595bcd4c5",
            "metadata": {},
            "outputs": [],
            "source": [
                "# Encuentra variable que debe ser V3\n",
                "V3 = Vpu3 * Vb2\n",
                "V3"
            ]
        },
        {
            "cell_type": "markdown",
            "id": "63e52f82-427a-4c6e-a804-803c2caeb8e5",
            "metadata": {},
            "source": [
                "Tension 4"
            ]
        },
        {
            "cell_type": "code",
            "execution_count": null,
            "id": "56cf6c0c-0d6a-4189-a1be-21a052e835eb",
            "metadata": {},
            "outputs": [],
            "source": [
                "# Encuentra variable que debe ser V4\n",
                "V4 = Vpu4 * Vb3\n",
                "V4"
            ]
        },
        {
            "cell_type": "markdown",
            "id": "db46e62d-23ce-44c9-a3a2-9a86eb8db097",
            "metadata": {},
            "source": [
                "## Intensidad"
            ]
        },
        {
            "cell_type": "markdown",
            "id": "c79044d6-0e0a-4270-8fcc-8cab3af14e87",
            "metadata": {},
            "source": [
                "Intensidad 1"
            ]
        },
        {
            "cell_type": "code",
            "execution_count": null,
            "id": "8bc5afd8-07e2-46b5-9faa-d3c24c0aa037",
            "metadata": {},
            "outputs": [],
            "source": [
                "# Encuentra variable que debe ser I1\n",
                "I1 = Iputot * Ib1\n",
                "I1"
            ]
        },
        {
            "cell_type": "markdown",
            "id": "b7719fec-4340-4f54-9480-b03ab3cfe260",
            "metadata": {},
            "source": [
                "Intensidad 2"
            ]
        },
        {
            "cell_type": "code",
            "execution_count": null,
            "id": "6ba15f59-4f5d-4802-ba16-cf445332d121",
            "metadata": {},
            "outputs": [],
            "source": [
                "# Encuentra variable que debe ser I2\n",
                "I2 = Iputot * Ib2\n",
                "I2"
            ]
        },
        {
            "cell_type": "markdown",
            "id": "f1fa7f5a-ae96-4eda-ae94-afcc4d81be84",
            "metadata": {},
            "source": [
                "Intensidad 3"
            ]
        },
        {
            "cell_type": "code",
            "execution_count": null,
            "id": "62cc39f0-6311-4749-9904-e8283173b356",
            "metadata": {},
            "outputs": [],
            "source": [
                "# Encuentra variable que debe ser I3\n",
                "I3 = Iputot * Ib3\n",
                "I3"
            ]
        }
    ],
    "metadata": {
        "kernelspec": {
            "display_name": "Python 3 (ipykernel)",
            "language": "python",
            "name": "python3"
        },
        "language_info": {
            "codemirror_mode": {
                "name": "ipython",
                "version": 3
            },
            "file_extension": ".py",
            "mimetype": "text/x-python",
            "name": "python",
            "nbconvert_exporter": "python",
            "pygments_lexer": "ipython3",
            "version": "3.12.4"
        }
    },
    "nbformat": 4,
    "nbformat_minor": 5
}