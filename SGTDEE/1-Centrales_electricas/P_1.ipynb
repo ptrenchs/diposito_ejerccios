{
 "cells": [
  {
   "cell_type": "markdown",
   "id": "be59d431-4c45-4277-af1a-c82180b54642",
   "metadata": {},
   "source": [
    "# Problema 1\n",
    "\n",
    "Una central hidroeléctrica a pie de presa tiene un salto limpio de agua de 27,15 my el rendimiento total de la instalación (turbina-generador-transformador) es del 90%.\n",
    "Calcule:\n",
    "\n",
    "**a) La potencia que se puede obtener por metro cúbico de agua turbinado.**\n",
    "\n",
    "**b) El caudal de agua necesario para generar 333 MW.**\n",
    "\n",
    "Una central hidroeléctrica de derivación de agua tiene un salto neto de agua de 9,7 m, un caudal de 5 m3/s, el rendimiento de la turbina es del 90% y el del generador de baja tensión es del 95%. Calcule:\n",
    "\n",
    "**c) La potència generada.**\n",
    "\n",
    "**Datos**\n",
    "\n",
    "Central a pie de presa\n",
    "\n",
    "- Altura (m)\n",
    "\n",
    "$H = 27$\n",
    "- Rendimenito\n",
    "\n",
    "$\\eta = 0.90$\n",
    "- Caudal vulometrico ($\\frac{m^2}{s}$)\n",
    "\n",
    "$Q = 1$"
   ]
  },
  {
   "cell_type": "code",
   "execution_count": 12,
   "id": "7136b599-81a1-43e8-b1ec-dec37f392bec",
   "metadata": {},
   "outputs": [],
   "source": [
    "# Datos\n",
    "# Central a pie de presa\n",
    "# Altura (m)\n",
    "H = 27\n",
    "# Rendimenito\n",
    "eta = 0.90\n",
    "# Caudal vulometrico (m^2/s)\n",
    "Q = 1"
   ]
  },
  {
   "cell_type": "markdown",
   "id": "64ceab77-3328-4c64-8314-3787a85ca3cd",
   "metadata": {},
   "source": [
    "La potencia generada por una central hidroeléctrica se puede determinar mediante la expresión:\n",
    "\n",
    "$$P = 9.81 \\cdot Q \\cdot H \\cdot \\eta$$"
   ]
  },
  {
   "cell_type": "code",
   "execution_count": 14,
   "id": "a3233ef1-875b-455c-bfae-65ec11c06bb4",
   "metadata": {},
   "outputs": [
    {
     "data": {
      "text/plain": [
       "238.383"
      ]
     },
     "execution_count": 14,
     "metadata": {},
     "output_type": "execute_result"
    }
   ],
   "source": [
    "# a) La potencia que se puede obtener por metro cúbico de agua turbinado (kW).\n",
    "P = 9.81 * Q * H * eta\n",
    "P"
   ]
  },
  {
   "cell_type": "markdown",
   "id": "548eaa78-1566-407f-9ba0-57d086da4f04",
   "metadata": {},
   "source": [
    "**Datos**\n",
    "\n",
    "Central a pie de presa\n",
    "\n",
    "- Altura (m)\n",
    "\n",
    "$H = 27.15$\n",
    "- Rendimenito\n",
    "\n",
    "$\\eta = 0.90$\n",
    "- Potencia (m)\n",
    "\n",
    "$P = 333 \\cdot 10^6$"
   ]
  },
  {
   "cell_type": "code",
   "execution_count": 38,
   "id": "bf5a9cff-fabf-482b-bd00-16ee3cb2b117",
   "metadata": {},
   "outputs": [],
   "source": [
    "# Datos\n",
    "# Central a pie de presa\n",
    "# Altura (m)\n",
    "H = 27.15\n",
    "# Rendimenito\n",
    "eta = 0.90\n",
    "# Caudal vulometrico (m^2/s)\n",
    "P = 333 * 10^6"
   ]
  },
  {
   "cell_type": "markdown",
   "id": "442034ac-a062-4d48-8481-b91030d83157",
   "metadata": {},
   "source": [
    "El caudal se encuentra de la siguiente manera:\n",
    "$$Q = \\frac{P}{9.81 \\cdot H \\cdot \\eta}$$"
   ]
  },
  {
   "cell_type": "code",
   "execution_count": 64,
   "id": "28e7adfa-9f2d-42db-9eff-6407b435c2bf",
   "metadata": {},
   "outputs": [
    {
     "data": {
      "text/plain": [
       "4.500000000000001"
      ]
     },
     "execution_count": 64,
     "metadata": {},
     "output_type": "execute_result"
    }
   ],
   "source": [
    "# b) El caudal de agua necesario para generar 333 MW.\n",
    "Q = P / (9.81 * H * eta)\n",
    "Q"
   ]
  },
  {
   "cell_type": "markdown",
   "id": "c57ec9c9-0d4d-4210-b2dc-d5c134ba0d00",
   "metadata": {},
   "source": [
    "**Datos**\n",
    "\n",
    "Central a pie de presa\n",
    "\n",
    "- Altura (m)\n",
    "\n",
    "$H = 9.7$\n",
    "- Rendimenito turbina\n",
    "\n",
    "$\\eta_t = 0.90$\n",
    "\n",
    "- Rendimineto generador\n",
    "\n",
    "$\\eta_g = 0.90$\n",
    "- Caudal vulometrico ($\\frac{m^2}{s}$)\n",
    "\n",
    "$Q = 5$"
   ]
  },
  {
   "cell_type": "code",
   "execution_count": 67,
   "id": "88a0ab30-0469-4ab3-9084-0582853d8a2c",
   "metadata": {},
   "outputs": [],
   "source": [
    "# Datos\n",
    "# Central a pie de presa\n",
    "# Altura (m)\n",
    "H = 9.7\n",
    "# Rendimenito turbina\n",
    "eta_t = 0.90\n",
    "# Rendimenito generador\n",
    "eta_g = 0.95\n",
    "# Caudal vulometrico (m^2/s)\n",
    "Q = 5"
   ]
  },
  {
   "cell_type": "markdown",
   "id": "fdccc191-8cdd-43d8-9571-ebc68001dce2",
   "metadata": {},
   "source": [
    "La potencia generada por una central hidroeléctrica se puede determinar mediante la expresión:\n",
    "\n",
    "$$P = 9.81 \\cdot Q \\cdot H \\cdot \\eta_t \\cdot \\eta_g$$"
   ]
  },
  {
   "cell_type": "code",
   "execution_count": 70,
   "id": "b214749a-76bb-4a39-81cd-aba390fbb576",
   "metadata": {},
   "outputs": [
    {
     "data": {
      "text/plain": [
       "406.796175"
      ]
     },
     "execution_count": 70,
     "metadata": {},
     "output_type": "execute_result"
    }
   ],
   "source": [
    "# c) La potència generada(kW).\n",
    "P = 9.81 * Q * H * eta_t * eta_g\n",
    "P"
   ]
  }
 ],
 "metadata": {
  "kernelspec": {
   "display_name": "Python 3 (ipykernel)",
   "language": "python",
   "name": "python3"
  },
  "language_info": {
   "codemirror_mode": {
    "name": "ipython",
    "version": 3
   },
   "file_extension": ".py",
   "mimetype": "text/x-python",
   "name": "python",
   "nbconvert_exporter": "python",
   "pygments_lexer": "ipython3",
   "version": "3.12.4"
  }
 },
 "nbformat": 4,
 "nbformat_minor": 5
}
