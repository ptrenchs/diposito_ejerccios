{
 "cells": [
  {
   "cell_type": "markdown",
   "id": "3c0e22d9-2518-4bab-9af1-70df8fbed5f2",
   "metadata": {},
   "source": [
    "# Problema 2\n",
    "Una central térmica consume 4.512 t de carbón por día. Si el carbón tiene un poder calorífico de 5.040 (kcal/kg), ¿cuál es la potencia generada si el rendimiento total es del 30%?"
   ]
  },
  {
   "cell_type": "code",
   "execution_count": null,
   "id": "96430ee7-5644-4498-8eb6-93eabc54c69f",
   "metadata": {},
   "outputs": [],
   "source": []
  }
 ],
 "metadata": {
  "kernelspec": {
   "display_name": "Python 3 (ipykernel)",
   "language": "python",
   "name": "python3"
  },
  "language_info": {
   "codemirror_mode": {
    "name": "ipython",
    "version": 3
   },
   "file_extension": ".py",
   "mimetype": "text/x-python",
   "name": "python",
   "nbconvert_exporter": "python",
   "pygments_lexer": "ipython3",
   "version": "3.12.4"
  }
 },
 "nbformat": 4,
 "nbformat_minor": 5
}
